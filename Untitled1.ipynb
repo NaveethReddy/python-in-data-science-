{
 "cells": [
  {
   "cell_type": "code",
   "execution_count": 5,
   "id": "c0dc01c6",
   "metadata": {},
   "outputs": [
    {
     "name": "stdout",
     "output_type": "stream",
     "text": [
      "my age is: 19\n"
     ]
    }
   ],
   "source": [
    "age=19\n",
    "print(\"my age is:\",age)"
   ]
  },
  {
   "cell_type": "code",
   "execution_count": 6,
   "id": "21085929",
   "metadata": {},
   "outputs": [
    {
     "name": "stdout",
     "output_type": "stream",
     "text": [
      "MY age is:19\n"
     ]
    }
   ],
   "source": [
    "print(f\"MY age is:{age}\")"
   ]
  },
  {
   "cell_type": "code",
   "execution_count": 8,
   "id": "84f90adb",
   "metadata": {},
   "outputs": [
    {
     "name": "stdout",
     "output_type": "stream",
     "text": [
      "my name is naveeth and age is 19\n"
     ]
    }
   ],
   "source": [
    "name=\"naveeth\"\n",
    "age=19\n",
    "print(\"my name is {} and age is {}\".format(name,age))"
   ]
  },
  {
   "cell_type": "code",
   "execution_count": 10,
   "id": "87994e01",
   "metadata": {},
   "outputs": [
    {
     "name": "stdout",
     "output_type": "stream",
     "text": [
      "my name is 19 and age is naveeth\n"
     ]
    }
   ],
   "source": [
    "print(\"my name is {} and age is {}\".format(age,name))"
   ]
  },
  {
   "cell_type": "code",
   "execution_count": 11,
   "id": "1e73a0d3",
   "metadata": {},
   "outputs": [
    {
     "name": "stdout",
     "output_type": "stream",
     "text": [
      "my name is naveeth and age is 19\n"
     ]
    }
   ],
   "source": [
    "print(\"my name is {firstname} and age is {firstage}\".format(firstname=name,firstage=age))"
   ]
  },
  {
   "cell_type": "code",
   "execution_count": 24,
   "id": "b71e992f",
   "metadata": {},
   "outputs": [],
   "source": [
    "name=\"navi\"\n",
    "age=20\n",
    "degree=\"btech\""
   ]
  },
  {
   "cell_type": "code",
   "execution_count": 27,
   "id": "c984c0cd",
   "metadata": {},
   "outputs": [
    {
     "name": "stdout",
     "output_type": "stream",
     "text": [
      "my age is 20 and i have completed: my degree btech with the name of navi\n"
     ]
    }
   ],
   "source": [
    "print(\"my age is {} and i have completed: my degree {} with the name of {}\".format(age,degree,name))"
   ]
  },
  {
   "cell_type": "code",
   "execution_count": 29,
   "id": "2e4de99a",
   "metadata": {},
   "outputs": [
    {
     "name": "stdout",
     "output_type": "stream",
     "text": [
      "My age is 20 and i have completed: my degree btech with the name of navi\n"
     ]
    }
   ],
   "source": [
    "print(f\"My age is {age} and i have completed: my degree {degree} with the name of {name}\".format(age,degree,name))"
   ]
  },
  {
   "cell_type": "markdown",
   "id": "5a68d6d4",
   "metadata": {},
   "source": [
    ".if \n",
    ".if else\n",
    ".if elif else\n",
    ".nested if\n",
    ".single statement suites"
   ]
  },
  {
   "cell_type": "markdown",
   "id": "d70a2d69",
   "metadata": {},
   "source": [
    "### if statement"
   ]
  },
  {
   "cell_type": "code",
   "execution_count": 30,
   "id": "485763b2",
   "metadata": {
    "scrolled": true
   },
   "outputs": [
    {
     "name": "stdout",
     "output_type": "stream",
     "text": [
      "you are eligible\n"
     ]
    }
   ],
   "source": [
    "age=18\n",
    "if age>=18:\n",
    "    print(\"you are eligible\")"
   ]
  },
  {
   "cell_type": "code",
   "execution_count": 33,
   "id": "cba9bc9a",
   "metadata": {
    "scrolled": true
   },
   "outputs": [
    {
     "name": "stdout",
     "output_type": "stream",
     "text": [
      "you are not eligible\n"
     ]
    }
   ],
   "source": [
    "age=17\n",
    "if age<18:\n",
    "    print(\"you are not eligible\")"
   ]
  },
  {
   "cell_type": "code",
   "execution_count": 34,
   "id": "8bfdf34d",
   "metadata": {},
   "outputs": [
    {
     "name": "stdout",
     "output_type": "stream",
     "text": [
      "0naveeth\n"
     ]
    },
    {
     "data": {
      "text/plain": [
       "'naveeth'"
      ]
     },
     "execution_count": 34,
     "metadata": {},
     "output_type": "execute_result"
    }
   ],
   "source": [
    "input(0)"
   ]
  },
  {
   "cell_type": "code",
   "execution_count": 35,
   "id": "ab7f354d",
   "metadata": {},
   "outputs": [
    {
     "name": "stdout",
     "output_type": "stream",
     "text": [
      "enter your namenaveeth\n"
     ]
    }
   ],
   "source": [
    "name=input(\"enter your name\")"
   ]
  },
  {
   "cell_type": "code",
   "execution_count": 36,
   "id": "fe06bb44",
   "metadata": {},
   "outputs": [
    {
     "data": {
      "text/plain": [
       "'naveeth'"
      ]
     },
     "execution_count": 36,
     "metadata": {},
     "output_type": "execute_result"
    }
   ],
   "source": [
    "name"
   ]
  },
  {
   "cell_type": "code",
   "execution_count": 37,
   "id": "21377745",
   "metadata": {},
   "outputs": [
    {
     "name": "stdout",
     "output_type": "stream",
     "text": [
      "enter your age19\n"
     ]
    }
   ],
   "source": [
    "age=int(input(\"enter your age\"))"
   ]
  },
  {
   "cell_type": "code",
   "execution_count": 38,
   "id": "6291d705",
   "metadata": {},
   "outputs": [
    {
     "data": {
      "text/plain": [
       "19"
      ]
     },
     "execution_count": 38,
     "metadata": {},
     "output_type": "execute_result"
    }
   ],
   "source": [
    "age"
   ]
  },
  {
   "cell_type": "code",
   "execution_count": 41,
   "id": "6a41a1ae",
   "metadata": {},
   "outputs": [
    {
     "name": "stdout",
     "output_type": "stream",
     "text": [
      "enter the age17\n"
     ]
    }
   ],
   "source": [
    "age=int(input(\"enter the age\"))\n",
    "if age>=18 and age<=32:\n",
    "    print(\"your young boy\")"
   ]
  },
  {
   "cell_type": "code",
   "execution_count": 42,
   "id": "3bc2c8d0",
   "metadata": {},
   "outputs": [
    {
     "data": {
      "text/plain": [
       "17"
      ]
     },
     "execution_count": 42,
     "metadata": {},
     "output_type": "execute_result"
    }
   ],
   "source": [
    "age"
   ]
  },
  {
   "cell_type": "code",
   "execution_count": 43,
   "id": "226b0a54",
   "metadata": {},
   "outputs": [
    {
     "name": "stdout",
     "output_type": "stream",
     "text": [
      "enter the age25\n",
      "your young boy\n"
     ]
    }
   ],
   "source": [
    "age=int(input(\"enter the age\"))\n",
    "if age>=18 and age<=32:\n",
    "    print(\"your young boy\")"
   ]
  },
  {
   "cell_type": "markdown",
   "id": "e3f4f417",
   "metadata": {},
   "source": [
    "## if else"
   ]
  },
  {
   "cell_type": "code",
   "execution_count": 44,
   "id": "9d2bdd49",
   "metadata": {},
   "outputs": [
    {
     "name": "stdout",
     "output_type": "stream",
     "text": [
      "enter the age15\n",
      "your bad boy\n"
     ]
    }
   ],
   "source": [
    "age=int(input(\"enter the age\"))\n",
    "if age>=18 and age<=32:\n",
    "    print(\"your young boy\")\n",
    "else:\n",
    "    print(\"your bad boy\")"
   ]
  },
  {
   "cell_type": "code",
   "execution_count": 46,
   "id": "ca9c34cc",
   "metadata": {},
   "outputs": [
    {
     "name": "stdout",
     "output_type": "stream",
     "text": [
      "enter the price600\n",
      "the price of the product is 420.0\n"
     ]
    }
   ],
   "source": [
    "product_price=int(input(\"enter the price\"))\n",
    "if product_price>1000:\n",
    "    print(\"the price of the product is {}\".format(product_price*0.8))\n",
    "else:\n",
    "    print(\"the price of the product is {}\".format(product_price*0.7))"
   ]
  },
  {
   "cell_type": "code",
   "execution_count": null,
   "id": "0ca15570",
   "metadata": {},
   "outputs": [],
   "source": []
  },
  {
   "cell_type": "code",
   "execution_count": 47,
   "id": "f577bbf7",
   "metadata": {},
   "outputs": [
    {
     "name": "stdout",
     "output_type": "stream",
     "text": [
      "enter the price5000\n",
      "the price of the product is 4000.0\n"
     ]
    }
   ],
   "source": [
    "product_price=int(input(\"enter the price\"))\n",
    "if product_price>1000:\n",
    "    print(\"the price of the product is {}\".format(product_price*0.8))\n",
    "else:\n",
    "    print(\"the price of the product is {}\".format(product_price*0.7))"
   ]
  },
  {
   "cell_type": "code",
   "execution_count": null,
   "id": "dbc53bf3",
   "metadata": {},
   "outputs": [],
   "source": []
  },
  {
   "cell_type": "code",
   "execution_count": 46,
   "id": "871245de",
   "metadata": {},
   "outputs": [
    {
     "name": "stdout",
     "output_type": "stream",
     "text": [
      "enter the price600\n",
      "the price of the product is 420.0\n"
     ]
    }
   ],
   "source": [
    "product_price=int(input(\"enter the price\"))\n",
    "if product_price>1000:\n",
    "    print(\"the price of the product is {}\".format(product_price*0.8))\n",
    "else:\n",
    "    print(\"the price of the product is {}\".format(product_price*0.7))"
   ]
  },
  {
   "cell_type": "code",
   "execution_count": 48,
   "id": "dab0677d",
   "metadata": {},
   "outputs": [
    {
     "name": "stdout",
     "output_type": "stream",
     "text": [
      "enter the price5000\n",
      "the price of the product is 4000.0\n"
     ]
    }
   ],
   "source": [
    "product_price=int(input(\"enter the price\"))\n",
    "if product_price>3000:\n",
    "    print(\"the price of the product is {}\".format(product_price*0.8))\n",
    "elif product_price>=2000 and product_price<=300:\n",
    "    print(\"the price of the product is ()\".format(product_price*0.7))\n",
    "else:\n",
    "    print(\"the price of the product is {}\".format(product_price*0.6))"
   ]
  },
  {
   "cell_type": "code",
   "execution_count": null,
   "id": "0911d3a0",
   "metadata": {},
   "outputs": [],
   "source": []
  },
  {
   "cell_type": "code",
   "execution_count": 49,
   "id": "9137ba97",
   "metadata": {},
   "outputs": [
    {
     "name": "stdout",
     "output_type": "stream",
     "text": [
      "enter the price500\n",
      "the price of the product is 300.0\n"
     ]
    }
   ],
   "source": [
    "product_price=int(input(\"enter the price\"))\n",
    "if product_price>3000:\n",
    "    print(\"the price of the product is {}\".format(product_price*0.8))\n",
    "elif product_price>=2000 and product_price<=300:\n",
    "    print(\"the price of the product is ()\".format(product_price*0.7))\n",
    "else:\n",
    "    print(\"the price of the product is {}\".format(product_price*0.6))"
   ]
  },
  {
   "cell_type": "code",
   "execution_count": null,
   "id": "f116ffb6",
   "metadata": {},
   "outputs": [],
   "source": []
  },
  {
   "cell_type": "code",
   "execution_count": 50,
   "id": "f0f01e04",
   "metadata": {},
   "outputs": [
    {
     "name": "stdout",
     "output_type": "stream",
     "text": [
      "enter the price0\n",
      "the price of the product is 0.0\n"
     ]
    }
   ],
   "source": [
    "product_price=int(input(\"enter the price\"))\n",
    "if product_price>3000:\n",
    "    print(\"the price of the product is {}\".format(product_price*0.8))\n",
    "elif product_price>=2000 and product_price<=300:\n",
    "    print(\"the price of the product is ()\".format(product_price*0.7))\n",
    "else:\n",
    "    print(\"the price of the product is {}\".format(product_price*0.6))"
   ]
  },
  {
   "cell_type": "code",
   "execution_count": 58,
   "id": "03c2fbec",
   "metadata": {},
   "outputs": [
    {
     "name": "stdout",
     "output_type": "stream",
     "text": [
      "enter the price2999\n",
      "lets drink tea\n"
     ]
    }
   ],
   "source": [
    "product_price=int(input(\"enter the price\"))\n",
    "if product_price>3000:\n",
    "    print(\"the price of the product is {}\".format(product_price*0.8))\n",
    "elif product_price>=2000 and product_price<=300:\n",
    "    print(\"the price of the product is ()\".format(product_price*0.7))\n",
    "elif product_price>=100 and product_price<=2000:\n",
    "    print(\"the price of the product is {}\".format(product_price*0.6))\n",
    "else:\n",
    "    print(\"lets drink tea\")"
   ]
  },
  {
   "cell_type": "code",
   "execution_count": 57,
   "id": "33ea5aab",
   "metadata": {},
   "outputs": [
    {
     "name": "stdout",
     "output_type": "stream",
     "text": [
      "enter the price4000\n",
      "you get trip to goa\n",
      "the price of the product is 3200.0\n"
     ]
    }
   ],
   "source": [
    "product_price=int(input(\"enter the price\"))\n",
    "if product_price>3000:\n",
    "    if product_price==4000:\n",
    "        print(\"you get trip to goa\")\n",
    "    print(\"the price of the product is {}\".format(product_price*0.8))\n",
    "elif product_price>=2000 and product_price<=300:\n",
    "    if product_price==2999:\n",
    "        print(\"congrats you got gift\")\n",
    "    print(\"the price of the product is ()\".format(product_price*0.7))\n",
    "elif product_price>=100 and product_price<=2000:\n",
    "    print(\"the price of the product is {}\".format(product_price*0.6))\n",
    "else:\n",
    "    print(\"lets drink tea\")"
   ]
  },
  {
   "cell_type": "markdown",
   "id": "03d315e6",
   "metadata": {},
   "source": [
    "## single statements\n"
   ]
  },
  {
   "cell_type": "code",
   "execution_count": 59,
   "id": "465556af",
   "metadata": {},
   "outputs": [
    {
     "name": "stdout",
     "output_type": "stream",
     "text": [
      "enter the number400\n",
      "value is less then equal to 999\n"
     ]
    }
   ],
   "source": [
    "val=int(input('enter the number'))\n",
    "if(val<=999):\n",
    "    print(\"value is less then equal to 999\")"
   ]
  },
  {
   "cell_type": "code",
   "execution_count": 61,
   "id": "ff9612e2",
   "metadata": {},
   "outputs": [
    {
     "name": "stdout",
     "output_type": "stream",
     "text": [
      "enter the number1000\n",
      "go home \n"
     ]
    }
   ],
   "source": [
    "val=int(input('enter the number'))\n",
    "if(val<=999):\n",
    "    print(\"value is less then equal to 999\")\n",
    "else:\n",
    "    print(\"go home \")"
   ]
  },
  {
   "cell_type": "code",
   "execution_count": null,
   "id": "54abe9d3",
   "metadata": {},
   "outputs": [],
   "source": []
  }
 ],
 "metadata": {
  "kernelspec": {
   "display_name": "Python 3 (ipykernel)",
   "language": "python",
   "name": "python3"
  },
  "language_info": {
   "codemirror_mode": {
    "name": "ipython",
    "version": 3
   },
   "file_extension": ".py",
   "mimetype": "text/x-python",
   "name": "python",
   "nbconvert_exporter": "python",
   "pygments_lexer": "ipython3",
   "version": "3.11.0"
  }
 },
 "nbformat": 4,
 "nbformat_minor": 5
}
